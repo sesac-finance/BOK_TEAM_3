{
 "cells": [
  {
   "cell_type": "code",
   "execution_count": 60,
   "metadata": {},
   "outputs": [],
   "source": [
    "import pandas as pd\n",
    "import re\n",
    "import numpy as np\n",
    "yonhab=pd.read_csv('./newNaver.csv')\n",
    "edaily=pd.read_csv('./naveredaily.csv')\n",
    "\n",
    "final={}\n",
    "data_list=[]\n",
    "title_list=[]\n",
    "for da in yonhab.content:\n",
    "    if da=='content':\n",
    "        pass\n",
    "    else:\n",
    "        da=da.split('=')[-1]\n",
    "        da=da.replace('끝',' ')\n",
    "        \n",
    "        da=da.replace('연합인포맥스',' ')\n",
    "\n",
    "\n",
    "        da=da.replace('.',' ')\n",
    "        da=da.replace(',',' ')\n",
    "        da=da.replace('(',' ')\n",
    "        da=da.replace(')',' ')\n",
    "        data_list.append(''.join(re.findall('[ㄱ-ㅎ가-힣]+[ ]*',da)))\n",
    "\n",
    "for da in yonhab.date:\n",
    "    if da=='date':\n",
    "        pass\n",
    "    else:\n",
    "        title_list.append(da.split(' ')[-2])\n",
    "        \n",
    "for da in edaily.content:\n",
    "    if da=='content':\n",
    "        pass\n",
    "    else:\n",
    "        da=da.split('기자')[-1]\n",
    "    \n",
    "        da=da.replace('끝',' ')\n",
    "       \n",
    "        da=da.replace('이데일리',' ')\n",
    "        da=da.replace('.',' ')\n",
    "        da=da.replace(',',' ')\n",
    "        da=da.replace('(',' ')\n",
    "        da=da.replace(')',' ')\n",
    "        data_list.append(''.join(re.findall('[가-힣]+[ ]*',da)))\n",
    "\n",
    "for da in edaily.date:\n",
    "    if da=='date':\n",
    "        pass\n",
    "    else:\n",
    "        title_list.append(da.split(' ')[-2])\n",
    "    # print(da.split(' ')[-2])\n",
    "final['data']=data_list\n",
    "final['title']=title_list\n",
    "date_collect=pd.DataFrame(data=final)\n",
    "date_collect.data.replace('',np.nan,inplace=True)\n",
    "date_collect.dropna(axis=0,inplace=True)\n",
    "date_collect.to_csv('./final3.csv',index=False)\n"
   ]
  },
  {
   "cell_type": "code",
   "execution_count": 8,
   "metadata": {},
   "outputs": [
    {
     "data": {
      "text/plain": [
       "'[이데일리 정다슬 기자] 채권시장이 혼조세를 기록했다. 미 의회가 재정절벽 합의안을 도출했다는 소식이 약세 재료가 됐지만, 재정절벽을 둘러싼 불확실성이 해소되면서 기준금리 인하 기대감이 부각된 영향이 컸다. 단기물 쪽 금리가 하락하고 장기물 쪽 금리는 상승하면서 수익률 곡선은 스티프닝됐다.2일 금융투자협회에 따르면 국고 3년 금리는 전 거래일과 같은 2.82%에서 마감했다. 국고5년물과 30년물은 각각 1bp씩 올라 2.98%, 3.38%를 기록했다. 국고 10년물은 3bp 오른 3.19%, 국고 20년물은 2bp 오른 3.30%였다.3월 만기 3년 국채선물은 1틱 오른 105.96%였다. 거래량은 9만4024계약, 미결제약정 21만4865계약이었다. 장중 고가와 저가는 105.96와 105.83을 기록했다. 이날 외국인은 6268계약 순매도했고, 금융투자는 5569계약 매수대응했다. 은행은 한때 3000계약 가까이 팔았으나, 장 후반 매도물량을 줄이면서 결국 19계약 순매수했다. 3월 만기 10년 국채선물은 26틱 내린 115.11이었다. 거래량은 5만1423계약이었고 미결제량은 4만925계약이었다. 장중 고가와 저가는 115.22와 114.84였다.외국인이 3073계약 팔았고 금융투자와 보험, 자산운용은 각각 2166계약, 265계약, 206계약 순매수했다.증권사 채권딜러는 “정부와 한국은행이 저성장 쪽에 초점을 두는 기조를 나타내면서 금리 인하에 대한 기대감이 커진 데다 재정절벽 합의안까지 도출되며 더 이상 해외에서 채권시장 악재재료가 나오지 않을 것이란 안도감 역시 반영된 듯하다”며 “1월 금통위까지 정부와 한은의 어조에 민감하게 반응하며 채권 강세 기조가 이어질 가능성이 크다고 본다”고 전했다.은행 쪽 채권딜러는 “장기물은 여전히 약세 흐름을 보이는 가운데, 단기물 쪽이 강한 것을 보면 확실히 인하기대감이 반영된 것 같다”면서도 “오늘 채권시장이 이렇게 강해질 이유가 있었다고 보진 않는다”며 의아한 심정을 나타냈다. 그는 “주식시장의 랠리 가능성이 커지면서 채권시장은 오히려 위축된 모습을 보일 전망이다”라고 밝혔다.'"
      ]
     },
     "execution_count": 8,
     "metadata": {},
     "output_type": "execute_result"
    }
   ],
   "source": [
    "import pandas as pd\n",
    "import re\n",
    "import numpy as np\n",
    "\n",
    "edaily=pd.read_csv('naver_edaily.csv')\n",
    "edaily['content'][0]"
   ]
  },
  {
   "cell_type": "code",
   "execution_count": 10,
   "metadata": {},
   "outputs": [],
   "source": [
    "import pandas as pd\n",
    "import re\n",
    "import numpy as np\n",
    "\n",
    "edaily=pd.read_csv('naver_edaily.csv')\n",
    "\n",
    "\n",
    "final={}\n",
    "data_list=[]\n",
    "title_list=[]\n",
    "        \n",
    "for da in edaily.content:\n",
    "    if da=='content':\n",
    "        pass\n",
    "    else:\n",
    "        da=da.split('기자')[-1]\n",
    "    \n",
    "        da=da.replace('끝',' ')\n",
    "       \n",
    "        da=da.replace('이데일리',' ')\n",
    "        da=da.replace('.',' ')\n",
    "        da=da.replace(',',' ')\n",
    "        da=da.replace('(',' ')\n",
    "        da=da.replace(')',' ')\n",
    "        data_list.append(''.join(re.findall('[가-힣]+[ ]*',da)))\n",
    "\n",
    "for da in edaily.date:\n",
    "    if da=='date':\n",
    "        pass\n",
    "    else:\n",
    "        title_list.append(da.split(' ')[-2])\n",
    "final['data']=data_list\n",
    "final['title']=title_list\n",
    "date_collect=pd.DataFrame(data=final)\n",
    "date_collect.data.replace('',np.nan,inplace=True)\n",
    "date_collect.dropna(axis=0,inplace=True)\n",
    "# date_collect.to_csv('./final3.csv',index=False)\n"
   ]
  },
  {
   "cell_type": "code",
   "execution_count": 12,
   "metadata": {},
   "outputs": [
    {
     "data": {
      "text/plain": [
       "'채권시장이 혼조세를 기록했다  미 의회가 재정절벽 합의안을 도출했다는 소식이 약세 재료가 됐지만  재정절벽을 둘러싼 불확실성이 해소되면서 기준금리 인하 기대감이 부각된 영향이 컸다  단기물 쪽 금리가 하락하고 장기물 쪽 금리는 상승하면서 수익률 곡선은 스티프닝됐다 일 금융투자협회에 따르면 국고 년 금리는 전 거래일과 같은 에서 마감했다  국고년물과 년물은 각각 씩 올라 를 기록했다  국고 년물은 오른 국고 년물은 오른 였다 월 만기 년 국채선물은 틱 오른 였다  거래량은 만계약  미결제약정 만계약이었다  장중 고가와 저가는 와 을 기록했다  이날 외국인은 계약 순매도했고  금융투자는 계약 매수대응했다  은행은 한때 계약 가까이 팔았으나  장 후반 매도물량을 줄이면서 결국 계약 순매수했다  월 만기 년 국채선물은 틱 내린 이었다  거래량은 만계약이었고 미결제량은 만계약이었다  장중 고가와 저가는 와 였다 외국인이 계약 팔았고 금융투자와 보험  자산운용은 각각 계약  계약  계약 순매수했다 증권사 채권딜러는 정부와 한국은행이 저성장 쪽에 초점을 두는 기조를 나타내면서 금리 인하에 대한 기대감이 커진 데다 재정절벽 합의안까지 도출되며 더 이상 해외에서 채권시장 악재재료가 나오지 않을 것이란 안도감 역시 반영된 듯하다며 월 금통위까지 정부와 한은의 어조에 민감하게 반응하며 채권 강세 기조가 이어질 가능성이 크다고 본다고 전했다 은행 쪽 채권딜러는 장기물은 여전히 약세 흐름을 보이는 가운데  단기물 쪽이 강한 것을 보면 확실히 인하기대감이 반영된 것 같다면서도 오늘 채권시장이 이렇게 강해질 이유가 있었다고 보진 않는다며 의아한 심정을 나타냈다  그는 주식시장의 랠리 가능성이 커지면서 채권시장은 오히려 위축된 모습을 보일 전망이다라고 밝혔다 '"
      ]
     },
     "execution_count": 12,
     "metadata": {},
     "output_type": "execute_result"
    }
   ],
   "source": [
    "final['data'][0]\n"
   ]
  },
  {
   "cell_type": "code",
   "execution_count": 1,
   "metadata": {},
   "outputs": [
    {
     "ename": "FileNotFoundError",
     "evalue": "[Errno 2] No such file or directory: './newNaver.csv'",
     "output_type": "error",
     "traceback": [
      "\u001b[0;31m---------------------------------------------------------------------------\u001b[0m",
      "\u001b[0;31mFileNotFoundError\u001b[0m                         Traceback (most recent call last)",
      "\u001b[0;32m/var/folders/px/2gqqh24s6yb9zp3q9m6th5f80000gn/T/ipykernel_46441/4049687833.py\u001b[0m in \u001b[0;36m<module>\u001b[0;34m\u001b[0m\n\u001b[1;32m      2\u001b[0m \u001b[0;32mimport\u001b[0m \u001b[0mre\u001b[0m\u001b[0;34m\u001b[0m\u001b[0;34m\u001b[0m\u001b[0m\n\u001b[1;32m      3\u001b[0m \u001b[0;32mimport\u001b[0m \u001b[0mnumpy\u001b[0m \u001b[0;32mas\u001b[0m \u001b[0mnp\u001b[0m\u001b[0;34m\u001b[0m\u001b[0;34m\u001b[0m\u001b[0m\n\u001b[0;32m----> 4\u001b[0;31m \u001b[0myonhab\u001b[0m\u001b[0;34m=\u001b[0m\u001b[0mpd\u001b[0m\u001b[0;34m.\u001b[0m\u001b[0mread_csv\u001b[0m\u001b[0;34m(\u001b[0m\u001b[0;34m'./newNaver.csv'\u001b[0m\u001b[0;34m)\u001b[0m\u001b[0;34m\u001b[0m\u001b[0;34m\u001b[0m\u001b[0m\n\u001b[0m",
      "\u001b[0;32m~/opt/anaconda3/envs/Yunseo2/lib/python3.7/site-packages/pandas/util/_decorators.py\u001b[0m in \u001b[0;36mwrapper\u001b[0;34m(*args, **kwargs)\u001b[0m\n\u001b[1;32m    309\u001b[0m                     \u001b[0mstacklevel\u001b[0m\u001b[0;34m=\u001b[0m\u001b[0mstacklevel\u001b[0m\u001b[0;34m,\u001b[0m\u001b[0;34m\u001b[0m\u001b[0;34m\u001b[0m\u001b[0m\n\u001b[1;32m    310\u001b[0m                 )\n\u001b[0;32m--> 311\u001b[0;31m             \u001b[0;32mreturn\u001b[0m \u001b[0mfunc\u001b[0m\u001b[0;34m(\u001b[0m\u001b[0;34m*\u001b[0m\u001b[0margs\u001b[0m\u001b[0;34m,\u001b[0m \u001b[0;34m**\u001b[0m\u001b[0mkwargs\u001b[0m\u001b[0;34m)\u001b[0m\u001b[0;34m\u001b[0m\u001b[0;34m\u001b[0m\u001b[0m\n\u001b[0m\u001b[1;32m    312\u001b[0m \u001b[0;34m\u001b[0m\u001b[0m\n\u001b[1;32m    313\u001b[0m         \u001b[0;32mreturn\u001b[0m \u001b[0mwrapper\u001b[0m\u001b[0;34m\u001b[0m\u001b[0;34m\u001b[0m\u001b[0m\n",
      "\u001b[0;32m~/opt/anaconda3/envs/Yunseo2/lib/python3.7/site-packages/pandas/io/parsers/readers.py\u001b[0m in \u001b[0;36mread_csv\u001b[0;34m(filepath_or_buffer, sep, delimiter, header, names, index_col, usecols, squeeze, prefix, mangle_dupe_cols, dtype, engine, converters, true_values, false_values, skipinitialspace, skiprows, skipfooter, nrows, na_values, keep_default_na, na_filter, verbose, skip_blank_lines, parse_dates, infer_datetime_format, keep_date_col, date_parser, dayfirst, cache_dates, iterator, chunksize, compression, thousands, decimal, lineterminator, quotechar, quoting, doublequote, escapechar, comment, encoding, encoding_errors, dialect, error_bad_lines, warn_bad_lines, on_bad_lines, delim_whitespace, low_memory, memory_map, float_precision, storage_options)\u001b[0m\n\u001b[1;32m    584\u001b[0m     \u001b[0mkwds\u001b[0m\u001b[0;34m.\u001b[0m\u001b[0mupdate\u001b[0m\u001b[0;34m(\u001b[0m\u001b[0mkwds_defaults\u001b[0m\u001b[0;34m)\u001b[0m\u001b[0;34m\u001b[0m\u001b[0;34m\u001b[0m\u001b[0m\n\u001b[1;32m    585\u001b[0m \u001b[0;34m\u001b[0m\u001b[0m\n\u001b[0;32m--> 586\u001b[0;31m     \u001b[0;32mreturn\u001b[0m \u001b[0m_read\u001b[0m\u001b[0;34m(\u001b[0m\u001b[0mfilepath_or_buffer\u001b[0m\u001b[0;34m,\u001b[0m \u001b[0mkwds\u001b[0m\u001b[0;34m)\u001b[0m\u001b[0;34m\u001b[0m\u001b[0;34m\u001b[0m\u001b[0m\n\u001b[0m\u001b[1;32m    587\u001b[0m \u001b[0;34m\u001b[0m\u001b[0m\n\u001b[1;32m    588\u001b[0m \u001b[0;34m\u001b[0m\u001b[0m\n",
      "\u001b[0;32m~/opt/anaconda3/envs/Yunseo2/lib/python3.7/site-packages/pandas/io/parsers/readers.py\u001b[0m in \u001b[0;36m_read\u001b[0;34m(filepath_or_buffer, kwds)\u001b[0m\n\u001b[1;32m    480\u001b[0m \u001b[0;34m\u001b[0m\u001b[0m\n\u001b[1;32m    481\u001b[0m     \u001b[0;31m# Create the parser.\u001b[0m\u001b[0;34m\u001b[0m\u001b[0;34m\u001b[0m\u001b[0;34m\u001b[0m\u001b[0m\n\u001b[0;32m--> 482\u001b[0;31m     \u001b[0mparser\u001b[0m \u001b[0;34m=\u001b[0m \u001b[0mTextFileReader\u001b[0m\u001b[0;34m(\u001b[0m\u001b[0mfilepath_or_buffer\u001b[0m\u001b[0;34m,\u001b[0m \u001b[0;34m**\u001b[0m\u001b[0mkwds\u001b[0m\u001b[0;34m)\u001b[0m\u001b[0;34m\u001b[0m\u001b[0;34m\u001b[0m\u001b[0m\n\u001b[0m\u001b[1;32m    483\u001b[0m \u001b[0;34m\u001b[0m\u001b[0m\n\u001b[1;32m    484\u001b[0m     \u001b[0;32mif\u001b[0m \u001b[0mchunksize\u001b[0m \u001b[0;32mor\u001b[0m \u001b[0miterator\u001b[0m\u001b[0;34m:\u001b[0m\u001b[0;34m\u001b[0m\u001b[0;34m\u001b[0m\u001b[0m\n",
      "\u001b[0;32m~/opt/anaconda3/envs/Yunseo2/lib/python3.7/site-packages/pandas/io/parsers/readers.py\u001b[0m in \u001b[0;36m__init__\u001b[0;34m(self, f, engine, **kwds)\u001b[0m\n\u001b[1;32m    809\u001b[0m             \u001b[0mself\u001b[0m\u001b[0;34m.\u001b[0m\u001b[0moptions\u001b[0m\u001b[0;34m[\u001b[0m\u001b[0;34m\"has_index_names\"\u001b[0m\u001b[0;34m]\u001b[0m \u001b[0;34m=\u001b[0m \u001b[0mkwds\u001b[0m\u001b[0;34m[\u001b[0m\u001b[0;34m\"has_index_names\"\u001b[0m\u001b[0;34m]\u001b[0m\u001b[0;34m\u001b[0m\u001b[0;34m\u001b[0m\u001b[0m\n\u001b[1;32m    810\u001b[0m \u001b[0;34m\u001b[0m\u001b[0m\n\u001b[0;32m--> 811\u001b[0;31m         \u001b[0mself\u001b[0m\u001b[0;34m.\u001b[0m\u001b[0m_engine\u001b[0m \u001b[0;34m=\u001b[0m \u001b[0mself\u001b[0m\u001b[0;34m.\u001b[0m\u001b[0m_make_engine\u001b[0m\u001b[0;34m(\u001b[0m\u001b[0mself\u001b[0m\u001b[0;34m.\u001b[0m\u001b[0mengine\u001b[0m\u001b[0;34m)\u001b[0m\u001b[0;34m\u001b[0m\u001b[0;34m\u001b[0m\u001b[0m\n\u001b[0m\u001b[1;32m    812\u001b[0m \u001b[0;34m\u001b[0m\u001b[0m\n\u001b[1;32m    813\u001b[0m     \u001b[0;32mdef\u001b[0m \u001b[0mclose\u001b[0m\u001b[0;34m(\u001b[0m\u001b[0mself\u001b[0m\u001b[0;34m)\u001b[0m\u001b[0;34m:\u001b[0m\u001b[0;34m\u001b[0m\u001b[0;34m\u001b[0m\u001b[0m\n",
      "\u001b[0;32m~/opt/anaconda3/envs/Yunseo2/lib/python3.7/site-packages/pandas/io/parsers/readers.py\u001b[0m in \u001b[0;36m_make_engine\u001b[0;34m(self, engine)\u001b[0m\n\u001b[1;32m   1038\u001b[0m             )\n\u001b[1;32m   1039\u001b[0m         \u001b[0;31m# error: Too many arguments for \"ParserBase\"\u001b[0m\u001b[0;34m\u001b[0m\u001b[0;34m\u001b[0m\u001b[0;34m\u001b[0m\u001b[0m\n\u001b[0;32m-> 1040\u001b[0;31m         \u001b[0;32mreturn\u001b[0m \u001b[0mmapping\u001b[0m\u001b[0;34m[\u001b[0m\u001b[0mengine\u001b[0m\u001b[0;34m]\u001b[0m\u001b[0;34m(\u001b[0m\u001b[0mself\u001b[0m\u001b[0;34m.\u001b[0m\u001b[0mf\u001b[0m\u001b[0;34m,\u001b[0m \u001b[0;34m**\u001b[0m\u001b[0mself\u001b[0m\u001b[0;34m.\u001b[0m\u001b[0moptions\u001b[0m\u001b[0;34m)\u001b[0m  \u001b[0;31m# type: ignore[call-arg]\u001b[0m\u001b[0;34m\u001b[0m\u001b[0;34m\u001b[0m\u001b[0m\n\u001b[0m\u001b[1;32m   1041\u001b[0m \u001b[0;34m\u001b[0m\u001b[0m\n\u001b[1;32m   1042\u001b[0m     \u001b[0;32mdef\u001b[0m \u001b[0m_failover_to_python\u001b[0m\u001b[0;34m(\u001b[0m\u001b[0mself\u001b[0m\u001b[0;34m)\u001b[0m\u001b[0;34m:\u001b[0m\u001b[0;34m\u001b[0m\u001b[0;34m\u001b[0m\u001b[0m\n",
      "\u001b[0;32m~/opt/anaconda3/envs/Yunseo2/lib/python3.7/site-packages/pandas/io/parsers/c_parser_wrapper.py\u001b[0m in \u001b[0;36m__init__\u001b[0;34m(self, src, **kwds)\u001b[0m\n\u001b[1;32m     49\u001b[0m \u001b[0;34m\u001b[0m\u001b[0m\n\u001b[1;32m     50\u001b[0m         \u001b[0;31m# open handles\u001b[0m\u001b[0;34m\u001b[0m\u001b[0;34m\u001b[0m\u001b[0;34m\u001b[0m\u001b[0m\n\u001b[0;32m---> 51\u001b[0;31m         \u001b[0mself\u001b[0m\u001b[0;34m.\u001b[0m\u001b[0m_open_handles\u001b[0m\u001b[0;34m(\u001b[0m\u001b[0msrc\u001b[0m\u001b[0;34m,\u001b[0m \u001b[0mkwds\u001b[0m\u001b[0;34m)\u001b[0m\u001b[0;34m\u001b[0m\u001b[0;34m\u001b[0m\u001b[0m\n\u001b[0m\u001b[1;32m     52\u001b[0m         \u001b[0;32massert\u001b[0m \u001b[0mself\u001b[0m\u001b[0;34m.\u001b[0m\u001b[0mhandles\u001b[0m \u001b[0;32mis\u001b[0m \u001b[0;32mnot\u001b[0m \u001b[0;32mNone\u001b[0m\u001b[0;34m\u001b[0m\u001b[0;34m\u001b[0m\u001b[0m\n\u001b[1;32m     53\u001b[0m \u001b[0;34m\u001b[0m\u001b[0m\n",
      "\u001b[0;32m~/opt/anaconda3/envs/Yunseo2/lib/python3.7/site-packages/pandas/io/parsers/base_parser.py\u001b[0m in \u001b[0;36m_open_handles\u001b[0;34m(self, src, kwds)\u001b[0m\n\u001b[1;32m    227\u001b[0m             \u001b[0mmemory_map\u001b[0m\u001b[0;34m=\u001b[0m\u001b[0mkwds\u001b[0m\u001b[0;34m.\u001b[0m\u001b[0mget\u001b[0m\u001b[0;34m(\u001b[0m\u001b[0;34m\"memory_map\"\u001b[0m\u001b[0;34m,\u001b[0m \u001b[0;32mFalse\u001b[0m\u001b[0;34m)\u001b[0m\u001b[0;34m,\u001b[0m\u001b[0;34m\u001b[0m\u001b[0;34m\u001b[0m\u001b[0m\n\u001b[1;32m    228\u001b[0m             \u001b[0mstorage_options\u001b[0m\u001b[0;34m=\u001b[0m\u001b[0mkwds\u001b[0m\u001b[0;34m.\u001b[0m\u001b[0mget\u001b[0m\u001b[0;34m(\u001b[0m\u001b[0;34m\"storage_options\"\u001b[0m\u001b[0;34m,\u001b[0m \u001b[0;32mNone\u001b[0m\u001b[0;34m)\u001b[0m\u001b[0;34m,\u001b[0m\u001b[0;34m\u001b[0m\u001b[0;34m\u001b[0m\u001b[0m\n\u001b[0;32m--> 229\u001b[0;31m             \u001b[0merrors\u001b[0m\u001b[0;34m=\u001b[0m\u001b[0mkwds\u001b[0m\u001b[0;34m.\u001b[0m\u001b[0mget\u001b[0m\u001b[0;34m(\u001b[0m\u001b[0;34m\"encoding_errors\"\u001b[0m\u001b[0;34m,\u001b[0m \u001b[0;34m\"strict\"\u001b[0m\u001b[0;34m)\u001b[0m\u001b[0;34m,\u001b[0m\u001b[0;34m\u001b[0m\u001b[0;34m\u001b[0m\u001b[0m\n\u001b[0m\u001b[1;32m    230\u001b[0m         )\n\u001b[1;32m    231\u001b[0m \u001b[0;34m\u001b[0m\u001b[0m\n",
      "\u001b[0;32m~/opt/anaconda3/envs/Yunseo2/lib/python3.7/site-packages/pandas/io/common.py\u001b[0m in \u001b[0;36mget_handle\u001b[0;34m(path_or_buf, mode, encoding, compression, memory_map, is_text, errors, storage_options)\u001b[0m\n\u001b[1;32m    705\u001b[0m                 \u001b[0mencoding\u001b[0m\u001b[0;34m=\u001b[0m\u001b[0mioargs\u001b[0m\u001b[0;34m.\u001b[0m\u001b[0mencoding\u001b[0m\u001b[0;34m,\u001b[0m\u001b[0;34m\u001b[0m\u001b[0;34m\u001b[0m\u001b[0m\n\u001b[1;32m    706\u001b[0m                 \u001b[0merrors\u001b[0m\u001b[0;34m=\u001b[0m\u001b[0merrors\u001b[0m\u001b[0;34m,\u001b[0m\u001b[0;34m\u001b[0m\u001b[0;34m\u001b[0m\u001b[0m\n\u001b[0;32m--> 707\u001b[0;31m                 \u001b[0mnewline\u001b[0m\u001b[0;34m=\u001b[0m\u001b[0;34m\"\"\u001b[0m\u001b[0;34m,\u001b[0m\u001b[0;34m\u001b[0m\u001b[0;34m\u001b[0m\u001b[0m\n\u001b[0m\u001b[1;32m    708\u001b[0m             )\n\u001b[1;32m    709\u001b[0m         \u001b[0;32melse\u001b[0m\u001b[0;34m:\u001b[0m\u001b[0;34m\u001b[0m\u001b[0;34m\u001b[0m\u001b[0m\n",
      "\u001b[0;31mFileNotFoundError\u001b[0m: [Errno 2] No such file or directory: './newNaver.csv'"
     ]
    }
   ],
   "source": [
    "import pandas as pd\n",
    "import re\n",
    "import numpy as np\n",
    "yonhab=pd.read_csv('./newNaver.csv')"
   ]
  },
  {
   "cell_type": "code",
   "execution_count": null,
   "metadata": {},
   "outputs": [],
   "source": [
    "import pandas as pd\n",
    "import re\n",
    "import numpy as np\n",
    "yonhab=pd.read_csv('./newNaver.csv')\n",
    "\n",
    "final={}\n",
    "data_list=[]\n",
    "title_list=[]\n",
    "for da in yonhab.content:\n",
    "    if da=='content':\n",
    "        pass\n",
    "    else:\n",
    "        da=da.split('=')[-1]\n",
    "        da=da.replace('끝',' ')\n",
    "        da=da.replace('연합인포맥스',' ')\n",
    "        da=da.replace('.',' ')\n",
    "        da=da.replace(',',' ')\n",
    "        da=da.replace('(',' ')\n",
    "        da=da.replace(')',' ')\n",
    "        data_list.append(''.join(re.findall('[ㄱ-ㅎ가-힣]+[ ]*',da)))\n",
    "\n",
    "for da in yonhab.date:\n",
    "    if da=='date':\n",
    "        pass\n",
    "    else:\n",
    "        title_list.append(da.split(' ')[-2])\n",
    "        \n",
    "\n",
    "final['data']=data_list\n",
    "final['title']=title_list\n",
    "date_collect=pd.DataFrame(data=final)\n",
    "date_collect.data.replace('',np.nan,inplace=True)\n",
    "date_collect.dropna(axis=0,inplace=True)\n",
    "date_collect.to_csv('./final3.csv',index=False)\n"
   ]
  }
 ],
 "metadata": {
  "kernelspec": {
   "display_name": "Python 3.7.13 ('Yunseo2')",
   "language": "python",
   "name": "python3"
  },
  "language_info": {
   "codemirror_mode": {
    "name": "ipython",
    "version": 3
   },
   "file_extension": ".py",
   "mimetype": "text/x-python",
   "name": "python",
   "nbconvert_exporter": "python",
   "pygments_lexer": "ipython3",
   "version": "3.7.13"
  },
  "orig_nbformat": 4,
  "vscode": {
   "interpreter": {
    "hash": "d91612a4258c36bf55ca591b9905a57981950293511597ac5b57f5777cacf37b"
   }
  }
 },
 "nbformat": 4,
 "nbformat_minor": 2
}
