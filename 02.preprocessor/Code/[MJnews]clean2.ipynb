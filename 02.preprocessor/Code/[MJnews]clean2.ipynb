{
 "cells": [
  {
   "cell_type": "code",
   "execution_count": 1,
   "metadata": {},
   "outputs": [],
   "source": [
    "import pandas as pd\n",
    "import re\n",
    "import numpy as np\n",
    "all_news=pd.read_csv('./naver_news_scrapy_total_prep.csv')\n",
    "final={}\n",
    "data_list=[]\n",
    "date_list=[]\n",
    "for news in all_news.content:\n",
    "    \n",
    "    del_reporter=re.sub('([가-힣]{3}[ ]*기자)',' ',news)\n",
    "    del_newsname=re.sub('[가-힣]*연합뉴스 | [가-힣]*이데일리 | [가-힣]*연합인포맥스',' ',del_reporter)\n",
    "    del_rename=re.sub('([가-힣]*[ ]*특파원)',' ',del_newsname)\n",
    "    del_etc=re.sub('끝',' ',del_rename)\n",
    "    data_list.append(''.join(re.findall('[가-힣]+[ ]*',del_etc)))\n",
    "\n",
    "\n",
    "for date in all_news.date:\n",
    "    date_list.append(date)\n",
    "final['data']=data_list\n",
    "final['title']=date_list\n",
    "date_collect=pd.DataFrame(data=final)\n",
    "date_collect.data.replace('',np.nan,inplace=True)\n",
    "date_collect.dropna(axis=0,inplace=True)\n",
    "date_collect.to_csv('./refinal3.csv',index=False)\n",
    "\n"
   ]
  },
  {
   "cell_type": "code",
   "execution_count": null,
   "metadata": {},
   "outputs": [],
   "source": []
  }
 ],
 "metadata": {
  "kernelspec": {
   "display_name": "Python 3.7.13 ('myenv')",
   "language": "python",
   "name": "python3"
  },
  "language_info": {
   "codemirror_mode": {
    "name": "ipython",
    "version": 3
   },
   "file_extension": ".py",
   "mimetype": "text/x-python",
   "name": "python",
   "nbconvert_exporter": "python",
   "pygments_lexer": "ipython3",
   "version": "3.7.13"
  },
  "orig_nbformat": 4,
  "vscode": {
   "interpreter": {
    "hash": "42b7f6b6155e0b41fe6fb08f12eb3f3aa250e141ee612b5297840f72bf2bbe30"
   }
  }
 },
 "nbformat": 4,
 "nbformat_minor": 2
}
