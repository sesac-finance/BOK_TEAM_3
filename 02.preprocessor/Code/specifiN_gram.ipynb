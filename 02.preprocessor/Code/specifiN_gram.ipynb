{
 "cells": [
  {
   "cell_type": "code",
   "execution_count": 1,
   "metadata": {},
   "outputs": [],
   "source": [
    "import pandas as pd\n",
    "merge_file = pd.read_csv(\"final.csv\", encoding = \"utf-8\")\n",
    "import itertools\n",
    "ngram_list = list(itertools.chain(  * [eval(merge_file['ngrams'][x]) for x in range(len(merge_file['ngrams']))])   )\n",
    "\n",
    "\n",
    "# label이 up일때 ngram_list\n",
    "up_ngram_list = merge_file[merge_file['change'] == 'up']['ngrams']\n",
    "# # label이 down일때 ngram_list\n",
    "down_ngram_list = merge_file[merge_file['change'] == 'down']['ngrams']\n",
    "from nltk.tokenize import word_tokenize\n",
    "from nltk.probability import FreqDist\n",
    "fdist = FreqDist(ngram_list) #up_ngram_list, down_ngram_list\n",
    "count_df = pd.DataFrame(list(zip(fdist.keys(), fdist.values()))).set_index(0)\n",
    "\n",
    "\n",
    "idx = [x for x,y in zip(count_df.index,count_df[1]) if y>15]\n",
    "value = [y for x,y in zip(count_df.index,count_df[1]) if y>15]\n",
    "final={'idx':idx,'value':value}\n",
    "\n",
    "a=pd.DataFrame(data=final)\n",
    "\n",
    "\n"
   ]
  }
 ],
 "metadata": {
  "kernelspec": {
   "display_name": "Python 3.7.13 ('Yunseo2')",
   "language": "python",
   "name": "python3"
  },
  "language_info": {
   "codemirror_mode": {
    "name": "ipython",
    "version": 3
   },
   "file_extension": ".py",
   "mimetype": "text/x-python",
   "name": "python",
   "nbconvert_exporter": "python",
   "pygments_lexer": "ipython3",
   "version": "3.7.13"
  },
  "orig_nbformat": 4,
  "vscode": {
   "interpreter": {
    "hash": "d91612a4258c36bf55ca591b9905a57981950293511597ac5b57f5777cacf37b"
   }
  }
 },
 "nbformat": 4,
 "nbformat_minor": 2
}
