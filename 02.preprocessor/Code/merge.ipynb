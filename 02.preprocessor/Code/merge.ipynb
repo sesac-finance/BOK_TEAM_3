{
 "cells": [
  {
   "cell_type": "code",
   "execution_count": 11,
   "metadata": {},
   "outputs": [],
   "source": [
    "import pandas as pd\n",
    "\n",
    "naver_new1=pd.read_csv('new_naver_ngram_2022.csv',header=0)\n",
    "naver_new2=pd.read_csv('new-new_naver_ngram_2022.csv',header=0)\n",
    "naver_new2.drop(columns='title',inplace=True)\n",
    "Mpb=pd.read_csv('MPB_Ngram.csv',header=0)\n",
    "call_rate=pd.read_csv('callrate.csv',header=0)\n",
    "for i in range(len(Mpb.date)):\n",
    "    Mpb.date[i]=Mpb.date[i].replace('.','-')\n",
    "naver_new1.rename(columns={'tokens_ngrams':'ngrams'},inplace=True)\n",
    "naver_new2.rename(columns={'tokens_ngrams':'ngrams'},inplace=True)\n",
    "Mpb.rename(columns={'content':'data'},inplace=True)\n",
    "Mpb.drop(columns='title',inplace=True)\n",
    "bond_report=pd.read_csv('bond_report_ngramized.csv',header=0)\n",
    "bond_report.drop(columns=['title','url','Unnamed: 0'],inplace=True)\n",
    "bond_report.rename(columns={'content':'data'},inplace=True)\n",
    "bond_report.rename(columns={'tokens_ngrams':'ngrams'},inplace=True)\n",
    "\n",
    "\n",
    "\n",
    "for i in range(len(bond_report.date)):\n",
    "    bond_report.date[i]=bond_report.date[i].replace('.','-')\n",
    "call_rate.drop(columns=['RATE','RATE_30days_ago'],inplace=True)\n",
    "total=pd.concat([naver_new1,naver_new2,Mpb,bond_report],ignore_index=True)\n",
    "ngram_call_join = pd.merge(total,call_rate, on='date',how='left')\n",
    "\n",
    "ngram_call_join.to_csv('Final.csv',index=False)\n"
   ]
  }
 ],
 "metadata": {
  "kernelspec": {
   "display_name": "Python 3.6.13 ('YunseoTest')",
   "language": "python",
   "name": "python3"
  },
  "language_info": {
   "codemirror_mode": {
    "name": "ipython",
    "version": 3
   },
   "file_extension": ".py",
   "mimetype": "text/x-python",
   "name": "python",
   "nbconvert_exporter": "python",
   "pygments_lexer": "ipython3",
   "version": "3.6.13"
  },
  "orig_nbformat": 4,
  "vscode": {
   "interpreter": {
    "hash": "d8f6fdd8e0c2936db7258f3fdb4200205571263ecf9bab45e011e08cbfa817de"
   }
  }
 },
 "nbformat": 4,
 "nbformat_minor": 2
}
