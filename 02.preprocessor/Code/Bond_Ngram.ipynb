{
 "cells": [
  {
   "cell_type": "code",
   "execution_count": null,
   "metadata": {},
   "outputs": [],
   "source": [
    "import pandas as pd\n",
    "import csv\n",
    "from ekonlpy.tag import Mecab\n",
    "from ekonlpy.sentiment import MPCK\n",
    "\n",
    "mpck = MPCK()\n",
    "bond_report=pd.read_csv(\"bond_report_final.csv\", header=0, encoding='utf-8')\n",
    "bond_report.insert(4,'tokens_ngrams',None)\n",
    "bond_report\n",
    "for row in range(len(bond_report)) : #레포트 개수\n",
    "    try: \n",
    "        text = list([sentence for sentence in str(bond_report.loc[row, \"content\"]).split(\".\")])\n",
    "        new_content=[]\n",
    "        for sentence in text: # 한 레포트 안의 문장 개수\n",
    "            tokens = mpck.tokenize(sentence)\n",
    "            ngrams = mpck.ngramize(tokens)\n",
    "            new_content+=tokens\n",
    "            new_content+=ngrams\n",
    "        bond_report['tokens_ngrams'][row]=new_content\n",
    "    except:\n",
    "        bond_report['tokens_ngrams'][row]=\"None\"\n",
    "        \n",
    "bond_report.to_csv('bond_report_ngramized.csv', encoding='utf-8', index=False)"
   ]
  }
 ],
 "metadata": {
  "kernelspec": {
   "display_name": "Python 3.10.4 ('study')",
   "language": "python",
   "name": "python3"
  },
  "language_info": {
   "name": "python",
   "version": "3.10.4"
  },
  "orig_nbformat": 4,
  "vscode": {
   "interpreter": {
    "hash": "cdb3408ddd590d3368dab592099dfbb7bb79f8272c754c134a9f1c06d64a117d"
   }
  }
 },
 "nbformat": 4,
 "nbformat_minor": 2
}
