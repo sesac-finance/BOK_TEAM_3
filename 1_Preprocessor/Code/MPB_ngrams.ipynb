{
 "cells": [
  {
   "cell_type": "code",
   "execution_count": 7,
   "metadata": {},
   "outputs": [],
   "source": [
    "from ekonlpy.sentiment import MPCK\n",
    "import pandas as pd\n",
    "import re \n",
    "\n",
    "\n",
    "mp_report_df = pd.read_csv('./DF_MPB_append(2)-(3).csv', encoding='utf-8')\n",
    "mp_report_df['title'] = 0\n",
    "mp_report_df['ngram'] = 0\n",
    "mpck = MPCK()\n",
    "mp_report_df\n",
    "ngram_all=[]\n",
    "for i in range(len(mp_report_df)):\n",
    "    try:\n",
    "        text = mp_report_df['content'][i]\n",
    "        tokens = mpck.tokenize(text)\n",
    "        ngrams = mpck.ngramize(tokens)\n",
    "        ngram_all.append(tokens+ngrams)\n",
    "    # mp_report_df['date'][i] = re.sub(\"-\",\".\",mp_report_df['date'][i])\n",
    "    # print(i)\n",
    "    except :\n",
    "        pass\n",
    "\n",
    "mp_report_df['ngram'] = ngram_all\n",
    "mp_report_df['title'] = None\n",
    "mp_report_df = mp_report_df[['title','content','ngram']]\n",
    "df_new = mp_report_df.rename(columns={'ngram': 'ngrams'})\n",
    "\n",
    "df_new.to_csv('MPB_Ngram.csv', encoding='utf-8', index = False)\n"
   ]
  }
 ],
 "metadata": {
  "kernelspec": {
   "display_name": "Python 3.7.13 ('myenv')",
   "language": "python",
   "name": "python3"
  },
  "language_info": {
   "codemirror_mode": {
    "name": "ipython",
    "version": 3
   },
   "file_extension": ".py",
   "mimetype": "text/x-python",
   "name": "python",
   "nbconvert_exporter": "python",
   "pygments_lexer": "ipython3",
   "version": "3.7.13"
  },
  "orig_nbformat": 4,
  "vscode": {
   "interpreter": {
    "hash": "d8f0812ba8d2c0c97c7d43e28a4626f9cb026391df526457d2cdf0e675d93a43"
   }
  }
 },
 "nbformat": 4,
 "nbformat_minor": 2
}
