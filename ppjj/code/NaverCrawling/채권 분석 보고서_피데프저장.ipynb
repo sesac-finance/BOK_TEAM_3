{
 "cells": [
  {
   "cell_type": "code",
   "execution_count": 1,
   "metadata": {},
   "outputs": [],
   "source": [
    "import requests\n",
    "from bs4 import BeautifulSoup\n",
    "import datetime\n",
    "from datetime import datetime\n",
    "import re\n",
    "for i in range(1,112): # 마지막 페이지 입력하기\n",
    "    URL = 'https://finance.naver.com/research/debenture_list.naver?&page='+str(i)\n",
    "    response = requests.get(URL)\n",
    "    soup = BeautifulSoup(response.text, \"html.parser\")\n",
    "    list_minutes = soup.select('.type_1')\n",
    "    for minutes in list_minutes:\n",
    "        pdf=minutes.select('a')[1]\n",
    "        file_url = pdf['href']\n",
    "        pdf_names= minutes.select('a')[0:30]\n",
    "        for pn in pdf_names :\n",
    "            try:\n",
    "                pdf_name = pn.text\n",
    "                file_res = requests.get(URL)\n",
    "                with open(\"{0}.pdf\".format(pdf_name), 'wb') as f:\n",
    "                    f.write(file_res.content)\n",
    "                f.close()\n",
    "            except :\n",
    "                pass\n",
    "        "
   ]
  },
  {
   "cell_type": "code",
   "execution_count": null,
   "metadata": {},
   "outputs": [],
   "source": []
  }
 ],
 "metadata": {
  "kernelspec": {
   "display_name": "Python 3.10.4 ('study')",
   "language": "python",
   "name": "python3"
  },
  "language_info": {
   "codemirror_mode": {
    "name": "ipython",
    "version": 3
   },
   "file_extension": ".py",
   "mimetype": "text/x-python",
   "name": "python",
   "nbconvert_exporter": "python",
   "pygments_lexer": "ipython3",
   "version": "3.10.4"
  },
  "orig_nbformat": 4,
  "vscode": {
   "interpreter": {
    "hash": "cdb3408ddd590d3368dab592099dfbb7bb79f8272c754c134a9f1c06d64a117d"
   }
  }
 },
 "nbformat": 4,
 "nbformat_minor": 2
}
