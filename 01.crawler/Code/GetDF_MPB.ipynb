{
 "cells": [
  {
   "cell_type": "code",
   "execution_count": 86,
   "metadata": {},
   "outputs": [
    {
     "name": "stdout",
     "output_type": "stream",
     "text": [
      "갯수 211\n"
     ]
    }
   ],
   "source": [
    "import re\n",
    "import pandas as pd\n",
    "\n",
    "data=pd.read_csv('C:/Users/rlawp/Desktop/team_3/BOK_TEAM_3/ppjj/pdf2csv.csv')\n",
    "data=data.set_axis([\"data\",'content'],axis=1)\n",
    "print('갯수',len(data['content']))\n",
    "data_list=[]\n",
    "final={}\n",
    "\n",
    "for i in data['content']:\n",
    "    try :\n",
    "        a=i.strip().replace('\\n','').replace('２',' 2 ')\n",
    "\n",
    "\n",
    "    except :\n",
    "        a=i.strip().replace('\\n','') #.replace('２',' 2 ')\n",
    "    \n",
    "    b=a.split('( 2 )')[-1]\n",
    "\n",
    "    c=b.split('( 4 )')[0]\n",
    "    data_list.append(c)\n",
    "\n",
    "final['content']=data_list "
   ]
  },
  {
   "cell_type": "code",
   "execution_count": 87,
   "metadata": {},
   "outputs": [],
   "source": [
    "da=pd.DataFrame(data=final)\n",
    "da.to_csv('dis.csv',index=False)"
   ]
  }
 ],
 "metadata": {
  "kernelspec": {
   "display_name": "Python 3.7.13 ('myev')",
   "language": "python",
   "name": "python3"
  },
  "language_info": {
   "codemirror_mode": {
    "name": "ipython",
    "version": 3
   },
   "file_extension": ".py",
   "mimetype": "text/x-python",
   "name": "python",
   "nbconvert_exporter": "python",
   "pygments_lexer": "ipython3",
   "version": "3.7.13"
  },
  "orig_nbformat": 4,
  "vscode": {
   "interpreter": {
    "hash": "2a00ec94601ed511bf7a2ec2349327917ba9525695f3b20d65fc778cc08b9604"
   }
  }
 },
 "nbformat": 4,
 "nbformat_minor": 2
}
