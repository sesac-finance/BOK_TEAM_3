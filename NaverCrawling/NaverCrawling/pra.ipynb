{
 "cells": [
  {
   "cell_type": "code",
   "execution_count": 17,
   "metadata": {},
   "outputs": [
    {
     "ename": "TypeError",
     "evalue": "an integer is required (got type str)",
     "output_type": "error",
     "traceback": [
      "\u001b[0;31m---------------------------------------------------------------------------\u001b[0m",
      "\u001b[0;31mTypeError\u001b[0m                                 Traceback (most recent call last)",
      "\u001b[0;32m/var/folders/px/2gqqh24s6yb9zp3q9m6th5f80000gn/T/ipykernel_13117/2185267463.py\u001b[0m in \u001b[0;36m<module>\u001b[0;34m\u001b[0m\n\u001b[1;32m     10\u001b[0m         \u001b[0mdate_year\u001b[0m\u001b[0;34m=\u001b[0m\u001b[0mdate_total\u001b[0m\u001b[0;34m.\u001b[0m\u001b[0mstrftime\u001b[0m\u001b[0;34m(\u001b[0m\u001b[0;34m'%y'\u001b[0m\u001b[0;34m)\u001b[0m\u001b[0;34m\u001b[0m\u001b[0;34m\u001b[0m\u001b[0m\n\u001b[1;32m     11\u001b[0m         \u001b[0mdate_month\u001b[0m\u001b[0;34m=\u001b[0m\u001b[0mdate_total\u001b[0m\u001b[0;34m.\u001b[0m\u001b[0mstrftime\u001b[0m\u001b[0;34m(\u001b[0m\u001b[0;34m'%m'\u001b[0m\u001b[0;34m)\u001b[0m\u001b[0;34m\u001b[0m\u001b[0;34m\u001b[0m\u001b[0m\n\u001b[0;32m---> 12\u001b[0;31m         \u001b[0mdate_total\u001b[0m\u001b[0;34m=\u001b[0m\u001b[0mdatetime\u001b[0m\u001b[0;34m.\u001b[0m\u001b[0mdatetime\u001b[0m\u001b[0;34m(\u001b[0m\u001b[0mdate_year\u001b[0m\u001b[0;34m,\u001b[0m\u001b[0mdate_month\u001b[0m\u001b[0;34m,\u001b[0m\u001b[0mday_count\u001b[0m\u001b[0;34m)\u001b[0m\u001b[0;34m\u001b[0m\u001b[0;34m\u001b[0m\u001b[0m\n\u001b[0m\u001b[1;32m     13\u001b[0m         \u001b[0mdate_day\u001b[0m\u001b[0;34m=\u001b[0m\u001b[0mdate_total\u001b[0m\u001b[0;34m.\u001b[0m\u001b[0mstrftime\u001b[0m\u001b[0;34m(\u001b[0m\u001b[0;34m'%d'\u001b[0m\u001b[0;34m)\u001b[0m\u001b[0;34m\u001b[0m\u001b[0;34m\u001b[0m\u001b[0m\n\u001b[1;32m     14\u001b[0m         \u001b[0mprint\u001b[0m\u001b[0;34m(\u001b[0m\u001b[0mdate_year\u001b[0m\u001b[0;34m,\u001b[0m\u001b[0mdate_month\u001b[0m\u001b[0;34m,\u001b[0m\u001b[0mdate_day\u001b[0m\u001b[0;34m)\u001b[0m\u001b[0;34m\u001b[0m\u001b[0;34m\u001b[0m\u001b[0m\n",
      "\u001b[0;31mTypeError\u001b[0m: an integer is required (got type str)"
     ]
    }
   ],
   "source": [
    "import datetime\n",
    "import calendar\n",
    "date_total=datetime.datetime(2012,9,1)\n",
    "future_date=datetime.datetime(2013,9,1)\n",
    "while True:\n",
    "    if date_total==future_date:\n",
    "        break\n",
    "    howmany_days=calendar.monthrange(date_total.year, date_total.month)[1]\n",
    "    for day_count in range(1,howmany_days+1):\n",
    "        date_year=date_total.year\n",
    "        date_month=date_total.month\n",
    "        date_total=datetime.datetime(date_year,date_month,day_count)\n",
    "        date_day=date_total.day\n",
    "        \n",
    "        print(date_year,date_month,date_day)\n",
    "    if date_month==12:\n",
    "        date_total=datetime.datetime(date_year+1,1,1)\n",
    "    else:\n",
    "        date_total=datetime.datetime(date_year,date_month+1,1)\n",
    "\n",
    "     \n",
    "\n"
   ]
  },
  {
   "cell_type": "code",
   "execution_count": 8,
   "metadata": {},
   "outputs": [
    {
     "name": "stdout",
     "output_type": "stream",
     "text": [
      "2012-09-01 00:00:00\n"
     ]
    }
   ],
   "source": [
    "date_total=datetime.datetime(2012,9,1)\n",
    "date_total.replace(year=date_year+1,month=1)\n",
    "print(date_total)"
   ]
  },
  {
   "cell_type": "code",
   "execution_count": 50,
   "metadata": {},
   "outputs": [],
   "source": [
    "def solution(strings, n):\n",
    "    answer = []\n",
    "    temp={}\n",
    "    strings=sorted(strings)\n",
    "    for i, num in enumerate(range(len(strings))):\n",
    "        temp[i]= strings[num][n]\n",
    "    temp=sorted(temp.items(),key=lambda x : x[1])\n",
    "\n",
    "    for final_num in temp:\n",
    "       \n",
    "        answer.append(strings[final_num[0]])\n",
    "    \n",
    "\n",
    "    return answer"
   ]
  },
  {
   "cell_type": "code",
   "execution_count": 56,
   "metadata": {},
   "outputs": [],
   "source": [
    "# 문제가 개편되었습니다. 이로 인해 함수 구성이나 테스트케이스가 변경되어, 과거의 코드는 동작하지 않을 수 있습니다.\n",
    "# 새로운 함수 구성을 적용하려면 [코드 초기화] 버튼을 누르세요. 단, [코드 초기화] 버튼을 누르면 작성 중인 코드는 사라집니다.\n",
    "def strange_sort(strings, n):\n",
    "    '''strings의 문자열들을 n번째 글자를 기준으로 정렬해서 return하세요'''\n",
    "    return sorted(sorted(strings), key=lambda x: x[n])\n",
    "\n"
   ]
  },
  {
   "cell_type": "code",
   "execution_count": 57,
   "metadata": {},
   "outputs": [
    {
     "data": {
      "text/plain": [
       "['abcd', 'abce', 'cdx']"
      ]
     },
     "execution_count": 57,
     "metadata": {},
     "output_type": "execute_result"
    }
   ],
   "source": [
    "strange_sort([\"abce\", \"abcd\", \"cdx\"], 2)"
   ]
  },
  {
   "cell_type": "code",
   "execution_count": 76,
   "metadata": {},
   "outputs": [],
   "source": [
    "def solution(number):\n",
    "    answer = 0\n",
    "    people=1\n",
    "    number=sorted(number)\n",
    "    for nu in number:\n",
    "        count=0\n",
    "        a=number.index(nu)\n",
    "        count+=nu\n",
    "        for rest in number[a+1:]:\n",
    "            \n",
    "            b=number.index(rest)\n",
    "            temp1=count\n",
    "            temp1+=number[b]\n",
    "            for re in number[b+1:]:\n",
    "                \n",
    "        \n",
    "                temp2=temp1\n",
    "                temp2+=re\n",
    "                if temp2==0:\n",
    "                    answer+=1\n",
    "\n",
    "            \n",
    "    return answer"
   ]
  },
  {
   "cell_type": "code",
   "execution_count": 77,
   "metadata": {},
   "outputs": [
    {
     "name": "stdout",
     "output_type": "stream",
     "text": [
      "2 -2\n",
      "3 0\n",
      "3 2\n",
      "3 3\n",
      "2 0\n",
      "3 2\n",
      "3 3\n",
      "2 2\n",
      "3 3\n",
      "2 3\n",
      "2 0\n",
      "3 2\n",
      "3 3\n",
      "2 2\n",
      "3 3\n",
      "2 3\n",
      "2 2\n",
      "3 3\n",
      "2 3\n",
      "2 3\n"
     ]
    },
    {
     "data": {
      "text/plain": [
       "2"
      ]
     },
     "execution_count": 77,
     "metadata": {},
     "output_type": "execute_result"
    }
   ],
   "source": [
    "solution([-2, 3, 0, 2, -5])"
   ]
  }
 ],
 "metadata": {
  "kernelspec": {
   "display_name": "Python 3.7.13 ('Yunseo2')",
   "language": "python",
   "name": "python3"
  },
  "language_info": {
   "codemirror_mode": {
    "name": "ipython",
    "version": 3
   },
   "file_extension": ".py",
   "mimetype": "text/x-python",
   "name": "python",
   "nbconvert_exporter": "python",
   "pygments_lexer": "ipython3",
   "version": "3.7.13"
  },
  "orig_nbformat": 4,
  "vscode": {
   "interpreter": {
    "hash": "d91612a4258c36bf55ca591b9905a57981950293511597ac5b57f5777cacf37b"
   }
  }
 },
 "nbformat": 4,
 "nbformat_minor": 2
}
